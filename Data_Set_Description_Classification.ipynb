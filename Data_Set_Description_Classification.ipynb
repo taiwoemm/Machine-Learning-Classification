{
 "cells": [
  {
   "cell_type": "markdown",
   "id": "9977e984-834a-46f6-acbd-9d8b6ce7b673",
   "metadata": {},
   "source": [
    "## Classification\n",
    "The dataset provides data for estimating obesity levels in individuals from Mexico, Peru, and Colombia, based on their eating habits and physical condition. It contains 17 attributes, with each record labeled with the class variable NObesity (Obesity Level). The NObesity variable allows classifying the data using the values of Insufficient Weight, Normal Weight, Overweight Level I, Overweight Level II, Obesity Type I, Obesity Type II, and Obesity Type III. \n",
    "\n",
    "77% of the data was generated synthetically using the Weka tool and the SMOTE filter, while 23% of the data was collected directly from users through a web platform.\n",
    "\n",
    "1. Gender: The individual's gender.\n",
    "2. Age: The individual's age.\n",
    "3. Height: The individual's height.\n",
    "4. Weight: The individual's weight.\n",
    "5. Family History with Overweight: Whether there is a family history of overweight or obesity.\n",
    "6. FAVC: Frequency of consuming high-caloric foods.\n",
    "7. FCVC: Frequency of eating vegetables in meals.\n",
    "8. NCP: Number of meals per day.\n",
    "9. CAEC: Number of snacks between meals.\n",
    "10. SMOKE: Smoking habits.\n",
    "11. CH2O: Daily water intake.\n",
    "12. SCC: Monitoring daily caloric intake.\n",
    "13. FAF: Frequency of physical activities per week.\n",
    "14. TUE: Time spent on technological devices.\n",
    "15. CALC: Frequency of alcohol consumption.\n",
    "16. MTRANS: Mode of transportation.\n",
    "17. y: Obesity level classification."
   ]
  },
  {
   "cell_type": "code",
   "execution_count": null,
   "id": "bcf2280a",
   "metadata": {},
   "outputs": [],
   "source": []
  }
 ],
 "metadata": {
  "kernelspec": {
   "display_name": "Python 3 (ipykernel)",
   "language": "python",
   "name": "python3"
  },
  "language_info": {
   "codemirror_mode": {
    "name": "ipython",
    "version": 3
   },
   "file_extension": ".py",
   "mimetype": "text/x-python",
   "name": "python",
   "nbconvert_exporter": "python",
   "pygments_lexer": "ipython3",
   "version": "3.11.2"
  }
 },
 "nbformat": 4,
 "nbformat_minor": 5
}
